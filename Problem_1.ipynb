{
 "cells": [
  {
   "cell_type": "markdown",
   "metadata": {},
   "source": [
    "# Problem 1\n",
    "Problem 1 Resolution"
   ]
  },
  {
   "cell_type": "markdown",
   "metadata": {},
   "source": [
    "import requests\n",
    "\n",
    "url = \"API_URL\"\n",
    "payload = {\n",
    "    \"moneda_origen\": \"USD\",\n",
    "    \"moneda_destino\": \"EUR\",\n",
    "    \"fecha\": \"2023-01-01\"\n",
    "}\n",
    "\n",
    "response = requests.get(url, params=payload)\n",
    "\n",
    "# Verificar el código de estado HTTP\n",
    "assert response.status_code == 200, f\"Error en la solicitud. Código de estado: {response.status_code}\"\n",
    "\n",
    "# Verificar el contenido de la respuesta \n",
    "tipo_cambio = response.json()[\"tipo_cambio\"]\n",
    "assert tipo_cambio is not None, \"Tipo de cambio no devuelto correctamente\"\n",
    "\n",
    "print(\"Caso de prueba básico ejecutado con éxito.\")\n"
   ]
  },
  {
   "cell_type": "markdown",
   "metadata": {},
   "source": []
  }
 ],
 "metadata": {
  "kernelspec": {
   "display_name": "Python 3",
   "language": "python",
   "name": "python3"
  },
  "language_info": {
   "codemirror_mode": {
    "name": "ipython",
    "version": 3
   },
   "file_extension": ".py",
   "mimetype": "text/x-python",
   "name": "python",
   "nbconvert_exporter": "python",
   "pygments_lexer": "ipython3",
   "version": "3.11.5"
  }
 },
 "nbformat": 4,
 "nbformat_minor": 2
}
