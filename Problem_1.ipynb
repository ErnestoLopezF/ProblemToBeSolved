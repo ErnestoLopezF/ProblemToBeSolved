{
  "cells": [
    {
      "cell_type": "markdown",
      "metadata": {
        "id": "OwIuxLzLvgy6"
      },
      "source": [
        "\n",
        "# Problem 1\n",
        "Problem 1 Resolution"
      ]
    },
    {
      "cell_type": "markdown",
      "source": [
        "# Currency Conversion - Test Cases"
      ],
      "metadata": {
        "id": "0GECWWiVwETh"
      }
    },
    {
      "cell_type": "markdown",
      "source": [
        "\n",
        "###1.\tTest case - Direct result is successful:\n",
        "\n",
        "  •\tEntry: Source currency: USD, Target currency: EUR, Requested date: 2024-01-01\n",
        "\n",
        "  •\tExpected result: The exchange rate for USD to EUR is expected to be obtained on the specified date.\n",
        "\n",
        "###2.\tTest case - Back in time:\n",
        "\n",
        "•\tEntry: Source currency: JPY, Target currency: GBP, Requested date: 2023-12-15\n",
        "\n",
        "•\tExpected result: If there is no direct exchange rate on the date\n",
        "specified, the system is expected to go back in time and find the nearest exchange rate.\n",
        "\n",
        "###3.\tTest case - Triangular conversion is successful:\n",
        "\n",
        "•\tEntry: Source currency: CAD, Target currency: AUD, Requested date: 2023-02-01\n",
        "\n",
        "•\tExpected result: If there is no direct CAD to AUD exchange rate, but there are CAD to USD and USD to AUD conversion rates, the API is expected to perform the triangular conversion successfully.\n",
        "\n",
        "###4.\tTest case - Triangular conversion fails:\n",
        "\n",
        "•\tEntry: Source currency: EUR, Target currency: GBP, Requested date: 2023-02-01\n",
        "\n",
        "•\tExpected result: If there is no direct exchange rate or triangular conversion path, the API should report that the conversion cannot be performed.\n",
        "\n",
        "\n"
      ],
      "metadata": {
        "id": "UiiEZcxkgrQV"
      }
    },
    {
      "cell_type": "markdown",
      "source": [
        "# Automated Test Script for test case # 1\n",
        "\n"
      ],
      "metadata": {
        "id": "NlQsZ8jwgvfy"
      }
    },
    {
      "cell_type": "markdown",
      "source": [
        "1. Prepare the test\n",
        "2. Send the request or data\n",
        "3. Wait and verify that the response is received\n",
        "4. Check the results. Assert that the result is 0.90599.\n",
        "5. If the result is as expected, record that the test passed. Otherwise, record that the test failed.\n"
      ],
      "metadata": {
        "id": "a5ImWeRG73xi"
      }
    },
    {
      "cell_type": "markdown",
      "source": [
        "# Script code for test case # 1\n"
      ],
      "metadata": {
        "id": "xSkhCTx9g6Dx"
      }
    },
    {
      "cell_type": "code",
      "source": [
        "\n",
        "import requests\n",
        "#import pandas as pd   # in case need to read from a txt file\n",
        "\n",
        "url = \"<API_URL>\"    # assign the actual url\n",
        "\n",
        "simulated_data = {\n",
        "    \"source_currency\": \"USD\",\n",
        "    \"target_currency\": \"EUR\",\n",
        "    \"effective_start_date\": \"2024-01-01\"\n",
        "}\n",
        "\n",
        "response = requests.get(url, params = simulated_data)\n",
        "\n",
        "# Verifica HTTP status code\n",
        "assert response.status_code == 200, f\"Request error. Status code: {response.status_code}\"\n",
        "\n",
        "# Verificar el contenido de la respuesta\n",
        "exchange_rate = response.json()[\"exchange_rate\"]\n",
        "assert exchange_rate == 0.90599, \"Exchange rate not returned correctly\"\n",
        "\n",
        "print(\"Basic test case (Test case - Direct result is successful) executed successfully.\")\n",
        "\n",
        "\n",
        "\n"
      ],
      "metadata": {
        "id": "EJs3BJfpvgzI"
      },
      "execution_count": null,
      "outputs": []
    }
  ],
  "metadata": {
    "kernelspec": {
      "display_name": "Python 3",
      "language": "python",
      "name": "python3"
    },
    "language_info": {
      "codemirror_mode": {
        "name": "ipython",
        "version": 3
      },
      "file_extension": ".py",
      "mimetype": "text/x-python",
      "name": "python",
      "nbconvert_exporter": "python",
      "pygments_lexer": "ipython3",
      "version": "3.11.5"
    },
    "colab": {
      "provenance": [],
      "collapsed_sections": [
        "0GECWWiVwETh",
        "NlQsZ8jwgvfy",
        "xSkhCTx9g6Dx"
      ]
    }
  },
  "nbformat": 4,
  "nbformat_minor": 0
}